{
 "cells": [
  {
   "cell_type": "code",
   "execution_count": 5,
   "metadata": {},
   "outputs": [
    {
     "name": "stdout",
     "output_type": "stream",
     "text": [
      "Requirement already satisfied: yfinance in c:\\users\\johnn\\anaconda3\\lib\\site-packages (0.2.9)\n",
      "Requirement already satisfied: pandas in c:\\users\\johnn\\anaconda3\\lib\\site-packages (1.5.3)\n",
      "Requirement already satisfied: numpy in c:\\users\\johnn\\anaconda3\\lib\\site-packages (1.21.6)\n",
      "Requirement already satisfied: ta in c:\\users\\johnn\\anaconda3\\lib\\site-packages (0.10.2)\n",
      "Requirement already satisfied: requests in c:\\users\\johnn\\anaconda3\\lib\\site-packages (2.28.1)\n",
      "Requirement already satisfied: beautifulsoup4 in c:\\users\\johnn\\anaconda3\\lib\\site-packages (4.12.2)\n",
      "Requirement already satisfied: multitasking>=0.0.7 in c:\\users\\johnn\\anaconda3\\lib\\site-packages (from yfinance) (0.0.11)\n",
      "Requirement already satisfied: lxml>=4.9.1 in c:\\users\\johnn\\anaconda3\\lib\\site-packages (from yfinance) (4.9.2)\n",
      "Requirement already satisfied: appdirs>=1.4.4 in c:\\users\\johnn\\anaconda3\\lib\\site-packages (from yfinance) (1.4.4)\n",
      "Requirement already satisfied: pytz>=2022.5 in c:\\users\\johnn\\anaconda3\\lib\\site-packages (from yfinance) (2022.7.1)\n",
      "Requirement already satisfied: frozendict>=2.3.4 in c:\\users\\johnn\\anaconda3\\lib\\site-packages (from yfinance) (2.3.4)\n",
      "Requirement already satisfied: cryptography>=3.3.2 in c:\\users\\johnn\\anaconda3\\lib\\site-packages (from yfinance) (39.0.1)\n",
      "Requirement already satisfied: html5lib>=1.1 in c:\\users\\johnn\\anaconda3\\lib\\site-packages (from yfinance) (1.1)\n",
      "Requirement already satisfied: python-dateutil>=2.8.1 in c:\\users\\johnn\\anaconda3\\lib\\site-packages (from pandas) (2.8.2)\n",
      "Requirement already satisfied: charset-normalizer<3,>=2 in c:\\users\\johnn\\anaconda3\\lib\\site-packages (from requests) (2.0.4)\n",
      "Requirement already satisfied: idna<4,>=2.5 in c:\\users\\johnn\\anaconda3\\lib\\site-packages (from requests) (3.4)\n",
      "Requirement already satisfied: urllib3<1.27,>=1.21.1 in c:\\users\\johnn\\anaconda3\\lib\\site-packages (from requests) (1.26.16)\n",
      "Requirement already satisfied: certifi>=2017.4.17 in c:\\users\\johnn\\anaconda3\\lib\\site-packages (from requests) (2023.7.22)\n",
      "Requirement already satisfied: soupsieve>1.2 in c:\\users\\johnn\\anaconda3\\lib\\site-packages (from beautifulsoup4) (2.4)\n",
      "Requirement already satisfied: cffi>=1.12 in c:\\users\\johnn\\anaconda3\\lib\\site-packages (from cryptography>=3.3.2->yfinance) (1.15.1)\n",
      "Requirement already satisfied: six>=1.9 in c:\\users\\johnn\\anaconda3\\lib\\site-packages (from html5lib>=1.1->yfinance) (1.16.0)\n",
      "Requirement already satisfied: webencodings in c:\\users\\johnn\\anaconda3\\lib\\site-packages (from html5lib>=1.1->yfinance) (0.5.1)\n",
      "Requirement already satisfied: pycparser in c:\\users\\johnn\\anaconda3\\lib\\site-packages (from cffi>=1.12->cryptography>=3.3.2->yfinance) (2.21)\n"
     ]
    },
    {
     "name": "stderr",
     "output_type": "stream",
     "text": [
      "WARNING: Ignoring invalid distribution -atplotlib (c:\\users\\johnn\\anaconda3\\lib\\site-packages)\n",
      "WARNING: Ignoring invalid distribution -yarrow (c:\\users\\johnn\\anaconda3\\lib\\site-packages)\n",
      "WARNING: Ignoring invalid distribution -atplotlib (c:\\users\\johnn\\anaconda3\\lib\\site-packages)\n",
      "WARNING: Ignoring invalid distribution -yarrow (c:\\users\\johnn\\anaconda3\\lib\\site-packages)\n"
     ]
    }
   ],
   "source": [
    "!pip install yfinance pandas numpy ta requests beautifulsoup4"
   ]
  },
  {
   "cell_type": "code",
   "execution_count": 6,
   "metadata": {},
   "outputs": [],
   "source": [
    "import yfinance as yf\n",
    "import pandas as pd\n",
    "import numpy as np\n",
    "import ta\n",
    "import requests\n",
    "from bs4 import BeautifulSoup"
   ]
  },
  {
   "cell_type": "code",
   "execution_count": 7,
   "metadata": {},
   "outputs": [],
   "source": [
    "def get_sp500_tickers():\n",
    "    url = 'https://en.wikipedia.org/wiki/List_of_S%26P_500_companies'\n",
    "    response = requests.get(url)\n",
    "    soup = BeautifulSoup(response.text, 'html.parser')\n",
    "    table = soup.find('table', {'id': 'constituents'})\n",
    "    tickers = []\n",
    "    for row in table.findAll('tr')[1:]:\n",
    "        ticker = row.findAll('td')[0].text.strip()\n",
    "        tickers.append(ticker)\n",
    "    return tickers"
   ]
  },
  {
   "cell_type": "code",
   "execution_count": 66,
   "metadata": {},
   "outputs": [],
   "source": [
    "import pandas as pd\n",
    "import requests\n",
    "from bs4 import BeautifulSoup\n",
    "import os\n",
    "def fetch_info():\n",
    "    try:\n",
    "        url = \"https://en.wikipedia.org/wiki/Dow_Jones_Industrial_Average\"\n",
    "        headers = {\n",
    "            'User-Agent': 'Mozilla/5.0 (Windows NT 10.0; Win64; x64; rv:101.0) Gecko/20100101 Firefox/101.0',\n",
    "            'Accept': 'application/json',\n",
    "            'Accept-Language': 'en-US,en;q=0.5',\n",
    "        }\n",
    "        #  Send GET request\n",
    "        response = requests.get(url, headers=headers)\n",
    "        soup = BeautifulSoup(response.content, \"html.parser\")\n",
    "        #  Get the symbols table\n",
    "        tables = soup.find_all('table')\n",
    "        #  #  Convert table to dataframe\n",
    "        df = pd.read_html(str(tables))[1]\n",
    "        #  Cleanup\n",
    "        df.drop(columns=['Notes'], inplace=True)\n",
    "        return df['Symbol'].to_list()\n",
    "    except:\n",
    "        print('Error loading data')\n",
    "        return None"
   ]
  },
  {
   "cell_type": "code",
   "execution_count": 68,
   "metadata": {},
   "outputs": [],
   "source": [
    "dow_jones_ticker = fetch_info()"
   ]
  },
  {
   "cell_type": "code",
   "execution_count": 72,
   "metadata": {},
   "outputs": [],
   "source": [
    "def get_set_data(market = 'SP500', dataset = 'A'):\n",
    "    \n",
    "    start_date = '2013-01-01'\n",
    "    end_date = '2023-12-31'\n",
    "\n",
    "    if market == 'SP500':\n",
    "        tickers = get_sp500_tickers()\n",
    "    \n",
    "    if market == 'DJones':\n",
    "        tickers = fetch_info()\n",
    "\n",
    "    time_index = yf.download('AAPL', start=start_date, end=end_date).index\n",
    "\n",
    "    if dataset == 'A':\n",
    "        details_index = ['Open', 'High', 'Low', 'Adj Close', 'Volume']\n",
    "    if dataset == 'B':\n",
    "        details_index = ['Open', 'High', 'Low', 'Adj Close', 'Volume', 'RSI', 'MACD', 'SMA5', 'SMA12']\n",
    "    \n",
    "    iterables = [time_index, details_index]\n",
    "    df_index = pd.MultiIndex.from_product(iterables, names=[\"first\", \"second\"])\n",
    "    df = pd.DataFrame(index = df_index)\n",
    "\n",
    "    for ticker in tickers:\n",
    "        data = yf.download(ticker, start=start_date, end=end_date)\n",
    "        data['RSI'] = ta.momentum.rsi(data['Adj Close'], window=12, fillna=False)\n",
    "        data['MACD'] = ta.trend.macd_diff(data['Close'], window_fast=12, window_slow=26, fillna=False)\n",
    "        data['SMA5'] = ta.trend.sma_indicator(data['Close'], window=5, fillna=False)\n",
    "        data['SMA12'] = ta.trend.sma_indicator(data['Close'], window=12, fillna=False)\n",
    "\n",
    "        for idx, rows in data.iterrows():\n",
    "            df.loc[(idx, 'Open'), ticker] = rows['Open']\n",
    "            df.loc[(idx, 'High'), ticker] = rows['High']\n",
    "            df.loc[(idx, 'Low'), ticker] = rows['Low']\n",
    "            df.loc[(idx, 'Adj Close'), ticker] = rows['Adj Close']\n",
    "            df.loc[(idx, 'Volume'), ticker] = rows['Volume']\n",
    "\n",
    "            if dataset == 'B':\n",
    "                df.loc[(idx, 'RSI'), ticker] = rows['RSI']\n",
    "                df.loc[(idx, 'MACD'), ticker] = rows['MACD']\n",
    "                df.loc[(idx, 'SMA5'), ticker] = rows['SMA5']\n",
    "                df.loc[(idx, 'SMA12'), ticker] = rows['SMA12']\n",
    "\n",
    "    return df"
   ]
  },
  {
   "cell_type": "code",
   "execution_count": 94,
   "metadata": {},
   "outputs": [
    {
     "name": "stdout",
     "output_type": "stream",
     "text": [
      "[*********************100%***********************]  1 of 1 completed\n",
      "[*********************100%***********************]  1 of 1 completed\n",
      "[*********************100%***********************]  1 of 1 completed\n",
      "[*********************100%***********************]  1 of 1 completed\n",
      "[*********************100%***********************]  1 of 1 completed\n",
      "[*********************100%***********************]  1 of 1 completed\n",
      "[*********************100%***********************]  1 of 1 completed\n",
      "[*********************100%***********************]  1 of 1 completed\n",
      "[*********************100%***********************]  1 of 1 completed\n",
      "[*********************100%***********************]  1 of 1 completed\n",
      "[*********************100%***********************]  1 of 1 completed\n",
      "[*********************100%***********************]  1 of 1 completed\n",
      "[*********************100%***********************]  1 of 1 completed\n",
      "[*********************100%***********************]  1 of 1 completed\n",
      "[*********************100%***********************]  1 of 1 completed\n",
      "[*********************100%***********************]  1 of 1 completed\n",
      "[*********************100%***********************]  1 of 1 completed\n",
      "[*********************100%***********************]  1 of 1 completed\n",
      "[*********************100%***********************]  1 of 1 completed\n",
      "[*********************100%***********************]  1 of 1 completed\n",
      "[*********************100%***********************]  1 of 1 completed\n",
      "[*********************100%***********************]  1 of 1 completed\n",
      "[*********************100%***********************]  1 of 1 completed\n",
      "[*********************100%***********************]  1 of 1 completed\n",
      "[*********************100%***********************]  1 of 1 completed\n",
      "[*********************100%***********************]  1 of 1 completed\n",
      "[*********************100%***********************]  1 of 1 completed\n",
      "[*********************100%***********************]  1 of 1 completed\n",
      "[*********************100%***********************]  1 of 1 completed\n",
      "[*********************100%***********************]  1 of 1 completed\n",
      "[*********************100%***********************]  1 of 1 completed\n"
     ]
    }
   ],
   "source": [
    "df = get_set_data('DJones', 'A')\n",
    "df.to_csv('DJones_setA.csv')"
   ]
  },
  {
   "cell_type": "code",
   "execution_count": 95,
   "metadata": {},
   "outputs": [
    {
     "name": "stdout",
     "output_type": "stream",
     "text": [
      "[*********************100%***********************]  1 of 1 completed\n",
      "[*********************100%***********************]  1 of 1 completed\n",
      "[*********************100%***********************]  1 of 1 completed\n",
      "[*********************100%***********************]  1 of 1 completed\n",
      "[*********************100%***********************]  1 of 1 completed\n",
      "[*********************100%***********************]  1 of 1 completed\n",
      "[*********************100%***********************]  1 of 1 completed\n",
      "[*********************100%***********************]  1 of 1 completed\n",
      "[*********************100%***********************]  1 of 1 completed\n",
      "[*********************100%***********************]  1 of 1 completed\n",
      "[*********************100%***********************]  1 of 1 completed\n",
      "[*********************100%***********************]  1 of 1 completed\n",
      "[*********************100%***********************]  1 of 1 completed\n",
      "[*********************100%***********************]  1 of 1 completed\n",
      "[*********************100%***********************]  1 of 1 completed\n",
      "[*********************100%***********************]  1 of 1 completed\n",
      "[*********************100%***********************]  1 of 1 completed\n",
      "[*********************100%***********************]  1 of 1 completed\n",
      "[*********************100%***********************]  1 of 1 completed\n",
      "[*********************100%***********************]  1 of 1 completed\n",
      "[*********************100%***********************]  1 of 1 completed\n",
      "[*********************100%***********************]  1 of 1 completed\n",
      "[*********************100%***********************]  1 of 1 completed\n",
      "[*********************100%***********************]  1 of 1 completed\n",
      "[*********************100%***********************]  1 of 1 completed\n",
      "[*********************100%***********************]  1 of 1 completed\n",
      "[*********************100%***********************]  1 of 1 completed\n",
      "[*********************100%***********************]  1 of 1 completed\n",
      "[*********************100%***********************]  1 of 1 completed\n",
      "[*********************100%***********************]  1 of 1 completed\n",
      "[*********************100%***********************]  1 of 1 completed\n"
     ]
    }
   ],
   "source": [
    "df = get_set_data('DJones', 'B')\n",
    "df.to_csv('DJones_setB.csv')"
   ]
  },
  {
   "cell_type": "code",
   "execution_count": 90,
   "metadata": {},
   "outputs": [
    {
     "name": "stdout",
     "output_type": "stream",
     "text": [
      "   fiscalDateEnding reportedEPS\n",
      "0        2023-09-30        3.54\n",
      "1        2022-12-31        9.12\n",
      "2        2021-12-31        9.97\n",
      "3        2020-12-31        8.67\n",
      "4        2019-12-31       12.81\n",
      "5        2018-12-31       13.82\n",
      "6        2017-12-31       13.65\n",
      "7        2016-12-31        13.6\n",
      "8        2015-12-31       14.93\n",
      "9        2014-12-31       16.27\n",
      "10       2013-12-31       17.03\n",
      "11       2012-12-31        15.3\n",
      "12       2011-12-31       13.49\n",
      "13       2010-12-31       11.58\n",
      "14       2009-12-31       10.01\n",
      "15       2008-12-31        8.96\n",
      "16       2007-12-31        7.19\n",
      "17       2006-12-31        6.09\n",
      "18       2005-12-31        5.34\n",
      "19       2004-12-31        5.07\n",
      "20       2003-12-31        4.34\n",
      "21       2002-12-31         3.9\n",
      "22       2001-12-31        4.44\n",
      "23       2000-12-31        4.45\n",
      "24       1999-12-31        3.71\n",
      "25       1998-12-31        3.32\n",
      "26       1997-12-31        3.09\n",
      "27       1996-12-31        2.77\n"
     ]
    }
   ],
   "source": [
    "import requests\n",
    "\n",
    "# replace the \"demo\" apikey below with your own key from https://www.alphavantage.co/support/#api-key\n",
    "url = 'https://www.alphavantage.co/query?function=EARNINGS&symbol=IBM&apikey=demo'\n",
    "r = requests.get(url)\n",
    "data = r.json()\n",
    "\n",
    "print(pd.DataFrame(data['annualEarnings']))"
   ]
  },
  {
   "cell_type": "code",
   "execution_count": null,
   "metadata": {},
   "outputs": [],
   "source": []
  },
  {
   "cell_type": "code",
   "execution_count": null,
   "metadata": {},
   "outputs": [],
   "source": []
  },
  {
   "cell_type": "code",
   "execution_count": 92,
   "metadata": {},
   "outputs": [
    {
     "name": "stderr",
     "output_type": "stream",
     "text": [
      "WARNING: Ignoring invalid distribution -atplotlib (c:\\users\\johnn\\anaconda3\\lib\\site-packages)\n",
      "WARNING: Ignoring invalid distribution -yarrow (c:\\users\\johnn\\anaconda3\\lib\\site-packages)\n",
      "WARNING: Ignoring invalid distribution -atplotlib (c:\\users\\johnn\\anaconda3\\lib\\site-packages)\n",
      "WARNING: Ignoring invalid distribution -yarrow (c:\\users\\johnn\\anaconda3\\lib\\site-packages)\n"
     ]
    },
    {
     "name": "stdout",
     "output_type": "stream",
     "text": [
      "Requirement already satisfied: alpha_vantage in c:\\users\\johnn\\anaconda3\\lib\\site-packages (2.3.1)\n",
      "Requirement already satisfied: aiohttp in c:\\users\\johnn\\anaconda3\\lib\\site-packages (from alpha_vantage) (3.8.3)\n",
      "Requirement already satisfied: requests in c:\\users\\johnn\\anaconda3\\lib\\site-packages (from alpha_vantage) (2.28.1)\n",
      "Requirement already satisfied: attrs>=17.3.0 in c:\\users\\johnn\\anaconda3\\lib\\site-packages (from aiohttp->alpha_vantage) (22.1.0)\n",
      "Requirement already satisfied: charset-normalizer<3.0,>=2.0 in c:\\users\\johnn\\anaconda3\\lib\\site-packages (from aiohttp->alpha_vantage) (2.0.4)\n",
      "Requirement already satisfied: multidict<7.0,>=4.5 in c:\\users\\johnn\\anaconda3\\lib\\site-packages (from aiohttp->alpha_vantage) (6.0.2)\n",
      "Requirement already satisfied: async-timeout<5.0,>=4.0.0a3 in c:\\users\\johnn\\anaconda3\\lib\\site-packages (from aiohttp->alpha_vantage) (4.0.2)\n",
      "Requirement already satisfied: yarl<2.0,>=1.0 in c:\\users\\johnn\\anaconda3\\lib\\site-packages (from aiohttp->alpha_vantage) (1.8.1)\n",
      "Requirement already satisfied: frozenlist>=1.1.1 in c:\\users\\johnn\\anaconda3\\lib\\site-packages (from aiohttp->alpha_vantage) (1.3.3)\n",
      "Requirement already satisfied: aiosignal>=1.1.2 in c:\\users\\johnn\\anaconda3\\lib\\site-packages (from aiohttp->alpha_vantage) (1.2.0)\n",
      "Requirement already satisfied: idna<4,>=2.5 in c:\\users\\johnn\\anaconda3\\lib\\site-packages (from requests->alpha_vantage) (3.4)\n",
      "Requirement already satisfied: urllib3<1.27,>=1.21.1 in c:\\users\\johnn\\anaconda3\\lib\\site-packages (from requests->alpha_vantage) (1.26.16)\n",
      "Requirement already satisfied: certifi>=2017.4.17 in c:\\users\\johnn\\anaconda3\\lib\\site-packages (from requests->alpha_vantage) (2023.7.22)\n",
      "Index(['fiscalDateEnding', 'reportedCurrency', 'grossProfit', 'totalRevenue',\n",
      "       'costOfRevenue', 'costofGoodsAndServicesSold', 'operatingIncome',\n",
      "       'sellingGeneralAndAdministrative', 'researchAndDevelopment',\n",
      "       'operatingExpenses', 'investmentIncomeNet', 'netInterestIncome',\n",
      "       'interestIncome', 'interestExpense', 'nonInterestIncome',\n",
      "       'otherNonOperatingIncome', 'depreciation',\n",
      "       'depreciationAndAmortization', 'incomeBeforeTax', 'incomeTaxExpense',\n",
      "       'interestAndDebtExpense', 'netIncomeFromContinuingOperations',\n",
      "       'comprehensiveIncomeNetOfTax', 'ebit', 'ebitda', 'netIncome'],\n",
      "      dtype='object')\n",
      "date\n",
      "1970-01-01 00:00:00.000000000    99803000000\n",
      "1970-01-01 00:00:00.000000001    94680000000\n",
      "1970-01-01 00:00:00.000000002    57411000000\n",
      "1970-01-01 00:00:00.000000003    55256000000\n",
      "1970-01-01 00:00:00.000000004    59531000000\n",
      "Name: netIncome, dtype: object\n"
     ]
    }
   ],
   "source": [
    "!pip install alpha_vantage\n",
    "from alpha_vantage.timeseries import TimeSeries\n",
    "from alpha_vantage.fundamentaldata import FundamentalData\n",
    "import matplotlib.pyplot as plt\n",
    "\n",
    "# Replace with your Alpha Vantage API key\n",
    "api_key = 'BC7EQJLSFM5GHA1E'\n",
    "\n",
    "ts = TimeSeries(key=api_key, output_format='pandas')\n",
    "fd = FundamentalData(key=api_key, output_format='pandas')\n",
    "\n",
    "# Get daily adjusted close prices\n",
    "\n",
    "# Get annual EPS\n",
    "eps_data, _ = fd.get_income_statement_annual(symbol='AAPL')\n",
    "print(eps_data.columns)\n",
    "print(eps_data['netIncome'])\n"
   ]
  },
  {
   "cell_type": "code",
   "execution_count": null,
   "metadata": {},
   "outputs": [],
   "source": []
  }
 ],
 "metadata": {
  "kernelspec": {
   "display_name": "base",
   "language": "python",
   "name": "python3"
  },
  "language_info": {
   "codemirror_mode": {
    "name": "ipython",
    "version": 3
   },
   "file_extension": ".py",
   "mimetype": "text/x-python",
   "name": "python",
   "nbconvert_exporter": "python",
   "pygments_lexer": "ipython3",
   "version": "3.9.13"
  },
  "orig_nbformat": 4
 },
 "nbformat": 4,
 "nbformat_minor": 2
}
